{
 "cells": [
  {
   "cell_type": "code",
   "execution_count": 1,
   "metadata": {
    "collapsed": true
   },
   "outputs": [],
   "source": [
    "import numpy as np\n",
    "import matplotlib.pyplot as plt\n",
    "from statsmodels.distributions.empirical_distribution import ECDF\n",
    "import math as m\n",
    "from bisect import bisect\n",
    "from scipy.interpolate import CubicSpline\n",
    "from scipy.stats import betaprime "
   ]
  },
  {
   "cell_type": "markdown",
   "metadata": {},
   "source": [
    "Так как таблицу уровней значимости для критериев Фросини и Андерсона - Дарлинга удалось найти лишь для значений $\\alpha=0.01,\\ 0.05,\\ 0.1,\\ 0.15,\\ 0.2$ в книге Б. Ю. Лемешко и П. Ю. Блинова \"Критерии проверки отклонения распределения от равномерного закона\", Новосибирск: НГТУ, 2015, то мы их нашли численным моделированием. В скобках приведены данные из книги. "
   ]
  },
  {
   "cell_type": "code",
   "execution_count": 2,
   "metadata": {
    "collapsed": true
   },
   "outputs": [],
   "source": [
    "def fros(alpha,n,sim):\n",
    "    x1=np.random.rand(sim,n)\n",
    "    s1=[]\n",
    "    B1=[]\n",
    "    #print(x1)\n",
    "    for i in range(0,sim):\n",
    "        x1[i,:].sort()\n",
    "        #print(x1[i])\n",
    "        s1.append([])\n",
    "        for k in range(0,n):\n",
    "            s1[i].append(abs(x1[i,k]-(k+0.5)/n))\n",
    "        #print(s1[i])\n",
    "        B1.append(pow(n,-0.5)*sum(s1[i]))\n",
    "    return np.percentile(B1, alpha)\n",
    "def andersond(alpha,n,sim):\n",
    "    x1=np.random.rand(sim,n)\n",
    "    s1=[]\n",
    "    B1=[]\n",
    "    #print(x1)\n",
    "    for i in range(0,sim):\n",
    "        x1[i,:].sort()\n",
    "        #print(x1[i])\n",
    "        s1.append([])\n",
    "        for k in range(0,n):\n",
    "            s1[i].append((2*(k+1)-1)*m.log(x1[i,k],m.e)/(2*n)+(1-(2*k+1)/(2*n))*m.log(1-x1[i,k],m.e))\n",
    "        #print(s1[i])\n",
    "        B1.append(-n-2*sum(s1[i]))\n",
    "    return np.percentile(B1, alpha)"
   ]
  },
  {
   "cell_type": "code",
   "execution_count": 3,
   "metadata": {},
   "outputs": [
    {
     "name": "stdout",
     "output_type": "stream",
     "text": [
      "                 Table of the values of criterias \n",
      "\n",
      "alpha   0.005   0.01   0.025    0.05    0.1      0.15     0.2    0.3    0.4\n",
      "\n",
      "Frosini 0.790  0.751   0.650    0.580    0.492   0.445   0.413  0.352  0.312\n",
      "Frosini       (0.7428)        (0.5785) (0.4966) (0.4456) (0.4083)\n",
      "And-Dar 4.221  3.593   3.154    2.492    1.882   1.629   1.413  1.110  0.901\n",
      "And-Dar      (3.8781) (3.0775) (2.4924) (1.9330) (1.6212)\n"
     ]
    }
   ],
   "source": [
    "N2=4000\n",
    "f005=fros(99.5,20,N2)\n",
    "f01=fros(99,20,N2)\n",
    "f025=fros(97.5,20,N2)\n",
    "f05=fros(95,20,N2)\n",
    "f1=fros(90,20,N2)\n",
    "f15=fros(85,20,N2)\n",
    "f2=fros(80,20,N2)\n",
    "f3=fros(70,20,N2)\n",
    "f4=fros(60,20,N2)\n",
    "a005=andersond(99.5,20,N2)\n",
    "a01=andersond(99,20,N2)\n",
    "a025=andersond(97.5,20,N2)\n",
    "a05=andersond(95,20,N2)\n",
    "a1=andersond(90,20,N2)\n",
    "a15=andersond(85,20,N2)\n",
    "a2=andersond(80,20,N2)\n",
    "a3=andersond(70,20,N2)\n",
    "a4=andersond(60,20,N2)\n",
    "print('                 Table of the values of criterias ')\n",
    "print('\\nalpha   0.005   0.01   0.025    0.05    0.1      0.15     0.2    0.3    0.4\\n')\n",
    "print('Frosini %1.3f  %1.3f   %1.3f    %1.3f    %1.3f   %1.3f   %1.3f  %1.3f  %1.3f'%(f005, f01, f025, f05, f1, f15, f2, f3, f4))\n",
    "print('Frosini       (0.7428)        (0.5785) (0.4966) (0.4456) (0.4083)')\n",
    "print('And-Dar %1.3f  %1.3f   %1.3f    %1.3f    %1.3f   %1.3f   %1.3f  %1.3f  %1.3f'%(a005, a01, a025, a05, a1, a15, a2, a3, a4))\n",
    "print('And-Dar      (3.8781) (3.0775) (2.4924) (1.9330) (1.6212)')\n",
    "#ecdf = ECDF(fros(20,1000))\n",
    "#plt.step(ecdf.x, ecdf.y) "
   ]
  },
  {
   "cell_type": "markdown",
   "metadata": {},
   "source": [
    "Напишем процедуры вычисления статистик критерия Фросини $$B=\\frac{1}{\\sqrt{N}}\\sum_{i=1}^{N}\\left| U_i-\\frac{i-0.5}{N}\\right|$$ и Андерсона - Дарлинга $$S=-N-2\\sum_{i=1}^{N}\\left( \\frac{2i-1}{2N}\\ln{U_i}+\\left(1-\\frac{2i-1}{2n}\\right)\\ln{(1-U_i)}\\right),$$ где $U_i$ - элементы вариационного ряда, постороенного по выборке $X_1,\\ldots,X_N.$"
   ]
  },
  {
   "cell_type": "code",
   "execution_count": 4,
   "metadata": {
    "collapsed": true
   },
   "outputs": [],
   "source": [
    "def frosEst(x):\n",
    "   nl=len(x)\n",
    "   nr=len(x[0])\n",
    "   u=np.array(x)\n",
    "   s=[]\n",
    "   B=[]\n",
    "   for i in range(0,nl):\n",
    "       u[i,:].sort()\n",
    "       s.append([])\n",
    "       for k in range(0,nr):\n",
    "           s[i].append(abs(u[i,k]-(k+0.5)/nr))\n",
    "       B.append(pow(nr,-0.5)*sum(s[i]))\n",
    "   return B\n",
    "def andersondEst(x):\n",
    "   nl=len(x)\n",
    "   nr=len(x[0])\n",
    "   u=np.array(x)\n",
    "   s=[]\n",
    "   B=[]\n",
    "   for i in range(0,nl):\n",
    "       u[i,:].sort()\n",
    "       s.append([])\n",
    "       for k in range(0,nr):\n",
    "           s[i].append((2*(k+1)-1)*m.log(u[i,k],m.e)/(2*nr)+(1-(2*k+1)/(2*nr))*m.log(1-u[i,k],m.e))\n",
    "       B.append(-nr-2*sum(s[i]))\n",
    "   return B"
   ]
  },
  {
   "cell_type": "markdown",
   "metadata": {},
   "source": [
    "Промоделируем достаточно большое число выборок из равномерного распределения и посчитаем процент, удовлетворяющих критериям $О$ и $П$ на разных уровнях значимости"
   ]
  },
  {
   "cell_type": "code",
   "execution_count": 8,
   "metadata": {},
   "outputs": [
    {
     "name": "stdout",
     "output_type": "stream",
     "text": [
      "\n",
      "                   Table of significance levels\n",
      "\n",
      "\n",
      "alpha   0.005  0.01   0.025  0.05    0.1   0.15    0.2   0.3    0.4\n",
      "\n",
      "alpha O  0.004  0.010  0.018  0.040  0.091  0.132  0.177  0.275  0.363\n",
      "alpha P  0.009  0.015  0.025  0.053  0.123  0.178  0.228  0.336  0.432\n"
     ]
    }
   ],
   "source": [
    "N1=4000\n",
    "x=np.random.rand(N1,20)\n",
    "fx=frosEst(x)\n",
    "ax=andersondEst(x)\n",
    "Cr005=0\n",
    "CrP005=0\n",
    "Cr01=0\n",
    "CrP01=0\n",
    "Cr025=0\n",
    "CrP025=0\n",
    "Cr05=0\n",
    "CrP05=0\n",
    "Cr1=0\n",
    "CrP1=0\n",
    "Cr15=0\n",
    "CrP15=0\n",
    "Cr2=0\n",
    "CrP2=0\n",
    "Cr3=0\n",
    "CrP3=0\n",
    "Cr4=0\n",
    "CrP4=0\n",
    "for i in range(0,len(fx)):\n",
    "    if (fx[i]<f005) or (ax[i]<a005):\n",
    "        Cr005=Cr005+1 \n",
    "    if (fx[i]<f005) and (ax[i]<a005):\n",
    "        CrP005=CrP005+1\n",
    "    if (fx[i]<f01) or (ax[i]<a01):\n",
    "        Cr01=Cr01+1 \n",
    "    if (fx[i]<f01) and (ax[i]<a01):\n",
    "        CrP01=CrP01+1\n",
    "    if (fx[i]<f025) or (ax[i]<a025):\n",
    "        Cr025=Cr025+1 \n",
    "    if (fx[i]<f025) and (ax[i]<a025):\n",
    "        CrP025=CrP025+1\n",
    "    if (fx[i]<f05) or (ax[i]<a05):\n",
    "        Cr05=Cr05+1 \n",
    "    if (fx[i]<f05) and (ax[i]<a05):\n",
    "        CrP05=CrP05+1\n",
    "    if (fx[i]<f1) or (ax[i]<a1):\n",
    "        Cr1=Cr1+1 \n",
    "    if (fx[i]<f1) and (ax[i]<a1):\n",
    "        CrP1=CrP1+1\n",
    "    if (fx[i]<f15) or (ax[i]<a15):\n",
    "        Cr15=Cr15+1 \n",
    "    if (fx[i]<f15) and (ax[i]<a15):\n",
    "        CrP15=CrP15+1\n",
    "    if (fx[i]<f2) or (ax[i]<a2):\n",
    "        Cr2=Cr2+1 \n",
    "    if (fx[i]<f2) and (ax[i]<a2):\n",
    "        CrP2=CrP2+1\n",
    "    if (fx[i]<f3) or (ax[i]<a3):\n",
    "        Cr3=Cr3+1 \n",
    "    if (fx[i]<f3) and (ax[i]<a3):\n",
    "        CrP3=CrP3+1\n",
    "    if (fx[i]<f4) or (ax[i]<a4):\n",
    "        Cr4=Cr4+1 \n",
    "    if (fx[i]<f4) and (ax[i]<a4):\n",
    "        CrP4=CrP4+1\n",
    "Cr005=1-Cr005/N1\n",
    "Cr01=1-Cr01/N1\n",
    "Cr025=1-Cr025/N1\n",
    "Cr05=1-Cr05/N1\n",
    "Cr1=1-Cr1/N1\n",
    "Cr15=1-Cr15/N1\n",
    "Cr2=1-Cr2/N1\n",
    "Cr3=1-Cr3/N1\n",
    "Cr4=1-Cr4/N1\n",
    "CrP005=1-CrP005/N1\n",
    "CrP01=1-CrP01/N1\n",
    "CrP025=1-CrP025/N1\n",
    "CrP05=1-CrP05/N1\n",
    "CrP1=1-CrP1/N1\n",
    "CrP15=1-CrP15/N1\n",
    "CrP2=1-CrP2/N1\n",
    "CrP3=1-CrP3/N1\n",
    "CrP4=1-CrP4/N1\n",
    "print('\\n                   Table of significance levels')\n",
    "print('\\n\\nalpha   0.005  0.01   0.025  0.05    0.1   0.15    0.2   0.3    0.4\\n')\n",
    "print('alpha O  %1.3f  %1.3f  %1.3f  %1.3f  %1.3f  %1.3f  %1.3f  %1.3f  %1.3f'%(Cr005, Cr01, Cr025, Cr05, Cr1, Cr15, Cr2, Cr3, Cr4))\n",
    "print('alpha P  %1.3f  %1.3f  %1.3f  %1.3f  %1.3f  %1.3f  %1.3f  %1.3f  %1.3f'%(CrP005, CrP01, CrP025, CrP05, CrP1, CrP15, CrP2, CrP3, CrP4))"
   ]
  },
  {
   "cell_type": "markdown",
   "metadata": {},
   "source": [
    "Интерполируем полученные значения и построим $\\alpha = f(\\alpha_{O})$"
   ]
  },
  {
   "cell_type": "code",
   "execution_count": 9,
   "metadata": {},
   "outputs": [
    {
     "data": {
      "image/png": "[encoded data removed]",
      "text/plain": [
       "<matplotlib.figure.Figure at 0x6971890>"
      ]
     },
     "metadata": {},
     "output_type": "display_data"
    }
   ],
   "source": [
    "Alpha=[0.005,  0.01,   0.025,  0.05,    0.1,   0.15,    0.2,   0.3,   0.4]\n",
    "CrArr=[Cr005, Cr01, Cr025, Cr05, Cr1, Cr15, Cr2, Cr3, Cr4]\n",
    "cs = CubicSpline(CrArr, Alpha)\n",
    "xs = np.arange(Cr005, Cr4, 0.05)\n",
    "fig, ax = plt.subplots(figsize=(6.5, 4))\n",
    "ax.plot(CrArr, Alpha, 'o', label='data')\n",
    "ax.plot(xs, cs(xs), label=\"S\")\n",
    "ax.set_xlim(0, 0.5)\n",
    "ax.legend(loc='upper left', ncol=2)\n",
    "plt.show()"
   ]
  },
  {
   "cell_type": "markdown",
   "metadata": {},
   "source": [
    "и $\\alpha=f(\\alpha_{П})$"
   ]
  },
  {
   "cell_type": "code",
   "execution_count": 7,
   "metadata": {},
   "outputs": [
    {
     "data": {
      "image/png": "[encoded data removed]",
      "text/plain": [
       "<matplotlib.figure.Figure at 0x7bd210>"
      ]
     },
     "metadata": {},
     "output_type": "display_data"
    }
   ],
   "source": [
    "CrPArr=[CrP005, CrP01, CrP025, CrP05, CrP1, CrP15, CrP2, CrP3, CrP4]\n",
    "csP = CubicSpline(CrPArr, Alpha)\n",
    "xsP = np.arange(CrP005, CrP4, 0.05)\n",
    "fig, ax = plt.subplots(figsize=(6.5, 4))\n",
    "ax.plot(CrPArr, Alpha, 'o', label='data')\n",
    "ax.plot(xsP, csP(xsP), label=\"S\")\n",
    "ax.set_xlim(0, 0.5)\n",
    "ax.legend(loc='upper left', ncol=2)\n",
    "plt.show()"
   ]
  },
  {
   "cell_type": "markdown",
   "metadata": {},
   "source": [
    "Вычислим значения критериев $О$ и $П$ в точках $\\alpha = 0.01,\\ 0.05,\\ 0.1,\\ 0.15$ по полученным функциям:"
   ]
  },
  {
   "cell_type": "code",
   "execution_count": 10,
   "metadata": {},
   "outputs": [
    {
     "name": "stdout",
     "output_type": "stream",
     "text": [
      "alpha_O/P  [0.01,      0.05,      0.1,       0.15]\n",
      "f(alpha_O) [ 0.01036806  0.05906074  0.1102408   0.17050457]\n",
      "f(alpha_P) [ 0.00562324  0.04135533  0.07550391  0.11701392]\n"
     ]
    }
   ],
   "source": [
    "AlphaO=cs([0.01, 0.05, 0.1, 0.15])\n",
    "AlphaP=csP([0.01, 0.05, 0.1, 0.15])\n",
    "print('alpha_O/P  [0.01,      0.05,      0.1,       0.15]')\n",
    "print('f(alpha_O)', AlphaO)\n",
    "print('f(alpha_P)', AlphaP)"
   ]
  },
  {
   "cell_type": "markdown",
   "metadata": {},
   "source": [
    "Проверим полученные значения моделированием. Сначала найдем значения критериев Фросини и Андерсона - Дарлинга в полученных $\\alpha$"
   ]
  },
  {
   "cell_type": "code",
   "execution_count": 12,
   "metadata": {},
   "outputs": [
    {
     "name": "stdout",
     "output_type": "stream",
     "text": [
      "                 Table of the values of criterias \n",
      "\n",
      "alpha   0.010    0.059    0.110    0.171     0.006   0.041    0.076    0.117\n",
      "\n",
      "Frosini   0.737    0.554    0.483    0.428     0.813   0.590    0.529    0.478\n",
      "And-Dar   3.958    2.341    1.816    1.505     4.359   2.684    2.102    1.790\n"
     ]
    }
   ],
   "source": [
    "N2=4000\n",
    "fAO1=fros(100*(1-AlphaO[0]),20,N2)\n",
    "fAO2=fros(100*(1-AlphaO[1]),20,N2)\n",
    "fAO3=fros(100*(1-AlphaO[2]),20,N2)\n",
    "fAO4=fros(100*(1-AlphaO[3]),20,N2)\n",
    "fAP1=fros(100*(1-AlphaP[0]),20,N2)\n",
    "fAP2=fros(100*(1-AlphaP[1]),20,N2)\n",
    "fAP3=fros(100*(1-AlphaP[2]),20,N2)\n",
    "fAP4=fros(100*(1-AlphaP[3]),20,N2)\n",
    "aAP1=andersond(100*(1-AlphaP[0]),20,N2)\n",
    "aAP2=andersond(100*(1-AlphaP[1]),20,N2)\n",
    "aAP3=andersond(100*(1-AlphaP[2]),20,N2)\n",
    "aAP4=andersond(100*(1-AlphaP[3]),20,N2)\n",
    "aAO1=andersond(100*(1-AlphaO[0]),20,N2)\n",
    "aAO2=andersond(100*(1-AlphaO[1]),20,N2)\n",
    "aAO3=andersond(100*(1-AlphaO[2]),20,N2)\n",
    "aAO4=andersond(100*(1-AlphaO[3]),20,N2)\n",
    "print('                 Table of the values of criterias ')\n",
    "print('\\nalpha   %1.3f    %1.3f    %1.3f    %1.3f     %1.3f   %1.3f    %1.3f    %1.3f\\n'%(AlphaO[0], AlphaO[1], AlphaO[2], AlphaO[3], AlphaP[0], AlphaP[1], AlphaP[2], AlphaP[3]))\n",
    "print('Frosini   %1.3f    %1.3f    %1.3f    %1.3f     %1.3f   %1.3f    %1.3f    %1.3f'%(fAO1,fAO2,fAO3,fAO4,fAP1,fAP2,fAP3,fAP4))\n",
    "print('And-Dar   %1.3f    %1.3f    %1.3f    %1.3f     %1.3f   %1.3f    %1.3f    %1.3f'%(aAO1,aAO2,aAO3,aAO4,aAP1,aAP2,aAP3,aAP4))"
   ]
  },
  {
   "cell_type": "markdown",
   "metadata": {},
   "source": [
    "Теперь рассчитаем значения критериев $О$ и $П$ с этими $\\alpha$"
   ]
  },
  {
   "cell_type": "code",
   "execution_count": 13,
   "metadata": {},
   "outputs": [
    {
     "name": "stdout",
     "output_type": "stream",
     "text": [
      "\n",
      "                   Table of significance levels\n",
      "Crit O    0.010  0.056  0.105  0.159 \n",
      "Crit P    0.009  0.053  0.092  0.136 \n"
     ]
    }
   ],
   "source": [
    "N1=4000\n",
    "x=np.random.rand(N1,20)\n",
    "fx=frosEst(x)\n",
    "ax=andersondEst(x)\n",
    "CrAO1=0\n",
    "CrPO1=0\n",
    "CrAO2=0\n",
    "CrPO2=0\n",
    "CrAO3=0\n",
    "CrPO3=0\n",
    "CrAO4=0\n",
    "CrPO4=0\n",
    "for i in range(0,len(fx)):\n",
    "    if (fx[i]<fAO1) or (ax[i]<aAO1):\n",
    "        CrAO1=CrAO1+1 \n",
    "    if (fx[i]<fAP1) and (ax[i]<aAP1):\n",
    "        CrPO1=CrPO1+1\n",
    "    if (fx[i]<fAO2) or (ax[i]<aAO2):\n",
    "        CrAO2=CrAO2+1 \n",
    "    if (fx[i]<fAP2) and (ax[i]<aAP2):\n",
    "        CrPO2=CrPO2+1\n",
    "    if (fx[i]<fAO3) or (ax[i]<aAO3):\n",
    "        CrAO3=CrAO3+1 \n",
    "    if (fx[i]<fAP3) and (ax[i]<aAP3):\n",
    "        CrPO3=CrPO3+1\n",
    "    if (fx[i]<fAO4) or (ax[i]<aAO4):\n",
    "        CrAO4=CrAO4+1 \n",
    "    if (fx[i]<fAP4) and (ax[i]<aAP4):\n",
    "        CrPO4=CrPO4+1\n",
    "CrAO1=1-CrAO1/N1\n",
    "CrAO2=1-CrAO2/N1\n",
    "CrAO3=1-CrAO3/N1\n",
    "CrAO4=1-CrAO4/N1\n",
    "CrPO1=1-CrPO1/N1\n",
    "CrPO2=1-CrPO2/N1\n",
    "CrPO3=1-CrPO3/N1\n",
    "CrPO4=1-CrPO4/N1\n",
    "print('\\n                   Table of significance levels')\n",
    "#print('\\n\\nalpha     0.01    0.05    0.1   0.15 \\n')\n",
    "print('Crit O    %1.3f  %1.3f  %1.3f  %1.3f '%(CrAO1, CrAO2, CrAO3, CrAO4))\n",
    "print('Crit P    %1.3f  %1.3f  %1.3f  %1.3f '%(CrPO1, CrPO2, CrPO3, CrPO4))"
   ]
  },
  {
   "cell_type": "code",
   "execution_count": 58,
   "metadata": {},
   "outputs": [
    {
     "data": {
      "image/png": "[encoded data removed]",
      "text/plain": [
       "<Figure size 432x288 with 1 Axes>"
      ]
     },
     "metadata": {
      "needs_background": "light"
     },
     "output_type": "display_data"
    }
   ],
   "source": [
    "ah1=1.5\n",
    "bh1=1.5\n",
    "ch1=1.0\n",
    "dh1=0.0\n",
    "sample1 = betaprime.rvs(ah1, bh1, loc=dh1, scale=ch1, size=1000) \n",
    "sample2=[]\n",
    "for i in range(0,len(sample1)):\n",
    "    if sample1[i]<=1:\n",
    "        sample2.append(sample1[i])\n",
    "ecdf = ECDF(sample2)\n",
    "plt.step(ecdf.x, ecdf.y)\n",
    "sampleh1=[sample2[0:20],sample2[20:40],sample2[40:60],sample2[60:80]]\n"
   ]
  },
  {
   "cell_type": "code",
   "execution_count": null,
   "metadata": {
    "collapsed": true
   },
   "outputs": [],
   "source": []
  }
 ],
 "metadata": {
  "kernelspec": {
   "display_name": "Python 3",
   "language": "python",
   "name": "python3"
  },
  "language_info": {
   "codemirror_mode": {
    "name": "ipython",
    "version": 3
   },
   "file_extension": ".py",
   "mimetype": "text/x-python",
   "name": "python",
   "nbconvert_exporter": "python",
   "pygments_lexer": "ipython3",
   "version": "3.6.2"
  }
 },
 "nbformat": 4,
 "nbformat_minor": 2
}
