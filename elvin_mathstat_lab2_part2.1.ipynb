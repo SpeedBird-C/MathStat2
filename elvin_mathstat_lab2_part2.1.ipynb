{
 "cells": [
  {
   "cell_type": "code",
   "execution_count": 30,
   "metadata": {
    "collapsed": true
   },
   "outputs": [],
   "source": [
    "import numpy as np\n",
    "import matplotlib.pyplot as plt\n",
    "from statsmodels.distributions.empirical_distribution import ECDF\n",
    "import math as m\n",
    "from bisect import bisect\n",
    "from scipy.interpolate import CubicSpline\n",
    "from scipy.stats import betaprime "
   ]
  },
  {
   "cell_type": "markdown",
   "metadata": {},
   "source": [
    "Так как таблицу уровней значимости для критериев Фросини и Андерсона - Дарлинга удалось найти лишь для значений $\\alpha=0.01,\\ 0.05,\\ 0.1,\\ 0.15,\\ 0.2$ в книге Б. Ю. Лемешко и П. Ю. Блинова \"Критерии проверки отклонения распределения от равномерного закона\", Новосибирск: НГТУ, 2015, то мы их нашли численным моделированием. В скобках приведены данные из книги. "
   ]
  },
  {
   "cell_type": "code",
   "execution_count": 31,
   "metadata": {
    "collapsed": true
   },
   "outputs": [],
   "source": [
    "def fros(alpha,n,sim):\n",
    "    x1=np.random.rand(sim,n)\n",
    "    s1=[]\n",
    "    B1=[]\n",
    "    #print(x1)\n",
    "    for i in range(0,sim):\n",
    "        x1[i,:].sort()\n",
    "        #print(x1[i])\n",
    "        s1.append([])\n",
    "        for k in range(0,n):\n",
    "            s1[i].append(abs(x1[i,k]-(k+0.5)/n))\n",
    "        #print(s1[i])\n",
    "        B1.append(pow(n,-0.5)*sum(s1[i]))\n",
    "    return np.percentile(B1, alpha)\n",
    "def andersond(alpha,n,sim):\n",
    "    x1=np.random.rand(sim,n)\n",
    "    s1=[]\n",
    "    B1=[]\n",
    "    #print(x1)\n",
    "    for i in range(0,sim):\n",
    "        x1[i,:].sort()\n",
    "        #print(x1[i])\n",
    "        s1.append([])\n",
    "        for k in range(0,n):\n",
    "            s1[i].append((2*(k+1)-1)*m.log(x1[i,k],m.e)/(2*n)+(1-(2*k+1)/(2*n))*m.log(1-x1[i,k],m.e))\n",
    "        #print(s1[i])\n",
    "        B1.append(-n-2*sum(s1[i]))\n",
    "    return np.percentile(B1, alpha)"
   ]
  },
  {
   "cell_type": "code",
   "execution_count": 32,
   "metadata": {},
   "outputs": [
    {
     "name": "stdout",
     "output_type": "stream",
     "text": [
      "                 Table of the values of criterias \n",
      "\n",
      "alpha   0.005   0.01   0.025    0.05    0.1      0.15     0.2    0.3    0.4\n",
      "\n",
      "Frosini 0.836  0.741   0.645    0.585    0.493   0.440   0.406  0.356  0.314\n",
      "Frosini       (0.7428)        (0.5785) (0.4966) (0.4456) (0.4083)\n",
      "And-Dar 4.339  3.954   3.085    2.428    1.924   1.640   1.470  1.107  0.946\n",
      "And-Dar      (3.8781) (3.0775) (2.4924) (1.9330) (1.6212)\n"
     ]
    }
   ],
   "source": [
    "N2=4000\n",
    "f005=fros(99.5,20,N2)\n",
    "f01=fros(99,20,N2)\n",
    "f025=fros(97.5,20,N2)\n",
    "f05=fros(95,20,N2)\n",
    "f1=fros(90,20,N2)\n",
    "f15=fros(85,20,N2)\n",
    "f2=fros(80,20,N2)\n",
    "f3=fros(70,20,N2)\n",
    "f4=fros(60,20,N2)\n",
    "a005=andersond(99.5,20,N2)\n",
    "a01=andersond(99,20,N2)\n",
    "a025=andersond(97.5,20,N2)\n",
    "a05=andersond(95,20,N2)\n",
    "a1=andersond(90,20,N2)\n",
    "a15=andersond(85,20,N2)\n",
    "a2=andersond(80,20,N2)\n",
    "a3=andersond(70,20,N2)\n",
    "a4=andersond(60,20,N2)\n",
    "print('                 Table of the values of criterias ')\n",
    "print('\\nalpha   0.005   0.01   0.025    0.05    0.1      0.15     0.2    0.3    0.4\\n')\n",
    "print('Frosini %1.3f  %1.3f   %1.3f    %1.3f    %1.3f   %1.3f   %1.3f  %1.3f  %1.3f'%(f005, f01, f025, f05, f1, f15, f2, f3, f4))\n",
    "print('Frosini       (0.7428)        (0.5785) (0.4966) (0.4456) (0.4083)')\n",
    "print('And-Dar %1.3f  %1.3f   %1.3f    %1.3f    %1.3f   %1.3f   %1.3f  %1.3f  %1.3f'%(a005, a01, a025, a05, a1, a15, a2, a3, a4))\n",
    "print('And-Dar      (3.8781) (3.0775) (2.4924) (1.9330) (1.6212)')\n",
    "#ecdf = ECDF(fros(20,1000))\n",
    "#plt.step(ecdf.x, ecdf.y) "
   ]
  },
  {
   "cell_type": "markdown",
   "metadata": {},
   "source": [
    "Напишем процедуры вычисления статистик критерия Фросини $$B=\\frac{1}{\\sqrt{N}}\\sum_{i=1}^{N}\\left| U_i-\\frac{i-0.5}{N}\\right|$$ и Андерсона - Дарлинга $$S=-N-2\\sum_{i=1}^{N}\\left( \\frac{2i-1}{2N}\\ln{U_i}+\\left(1-\\frac{2i-1}{2n}\\right)\\ln{(1-U_i)}\\right),$$ где $U_i$ - элементы вариационного ряда, постороенного по выборке $X_1,\\ldots,X_N.$"
   ]
  },
  {
   "cell_type": "code",
   "execution_count": 33,
   "metadata": {
    "collapsed": true
   },
   "outputs": [],
   "source": [
    "def frosEst(x):\n",
    "   nl=len(x)\n",
    "   nr=len(x[0])\n",
    "   u=np.array(x)\n",
    "   s=[]\n",
    "   B=[]\n",
    "   for i in range(0,nl):\n",
    "       u[i,:].sort()\n",
    "       s.append([])\n",
    "       for k in range(0,nr):\n",
    "           s[i].append(abs(u[i,k]-(k+0.5)/nr))\n",
    "       B.append(pow(nr,-0.5)*sum(s[i]))\n",
    "   return B\n",
    "def andersondEst(x):\n",
    "   nl=len(x)\n",
    "   nr=len(x[0])\n",
    "   u=np.array(x)\n",
    "   s=[]\n",
    "   B=[]\n",
    "   for i in range(0,nl):\n",
    "       u[i,:].sort()\n",
    "       s.append([])\n",
    "       for k in range(0,nr):\n",
    "           s[i].append((2*(k+1)-1)*m.log(u[i,k],m.e)/(2*nr)+(1-(2*k+1)/(2*nr))*m.log(1-u[i,k],m.e))\n",
    "       B.append(-nr-2*sum(s[i]))\n",
    "   return B"
   ]
  },
  {
   "cell_type": "markdown",
   "metadata": {},
   "source": [
    "Промоделируем достаточно большое число выборок из равномерного распределения и посчитаем процент, удовлетворяющих критериям $О$ и $П$ на разных уровнях значимости"
   ]
  },
  {
   "cell_type": "code",
   "execution_count": 34,
   "metadata": {},
   "outputs": [
    {
     "name": "stdout",
     "output_type": "stream",
     "text": [
      "\n",
      "                   Table of significance levels\n",
      "\n",
      "\n",
      "alpha   0.005  0.01   0.025  0.05    0.1   0.15    0.2   0.3    0.4\n",
      "\n",
      "alpha O  0.003  0.007  0.021  0.042  0.085  0.135  0.177  0.278  0.359\n",
      "alpha P  0.006  0.011  0.033  0.057  0.119  0.189  0.235  0.346  0.440\n"
     ]
    }
   ],
   "source": [
    "N1=4000\n",
    "x=np.random.rand(N1,20)\n",
    "fx=frosEst(x)\n",
    "ax=andersondEst(x)\n",
    "Cr005=0\n",
    "CrP005=0\n",
    "Cr01=0\n",
    "CrP01=0\n",
    "Cr025=0\n",
    "CrP025=0\n",
    "Cr05=0\n",
    "CrP05=0\n",
    "Cr1=0\n",
    "CrP1=0\n",
    "Cr15=0\n",
    "CrP15=0\n",
    "Cr2=0\n",
    "CrP2=0\n",
    "Cr3=0\n",
    "CrP3=0\n",
    "Cr4=0\n",
    "CrP4=0\n",
    "for i in range(0,len(fx)):\n",
    "    if (fx[i]<f005) or (ax[i]<a005):\n",
    "        Cr005=Cr005+1 \n",
    "    if (fx[i]<f005) and (ax[i]<a005):\n",
    "        CrP005=CrP005+1\n",
    "    if (fx[i]<f01) or (ax[i]<a01):\n",
    "        Cr01=Cr01+1 \n",
    "    if (fx[i]<f01) and (ax[i]<a01):\n",
    "        CrP01=CrP01+1\n",
    "    if (fx[i]<f025) or (ax[i]<a025):\n",
    "        Cr025=Cr025+1 \n",
    "    if (fx[i]<f025) and (ax[i]<a025):\n",
    "        CrP025=CrP025+1\n",
    "    if (fx[i]<f05) or (ax[i]<a05):\n",
    "        Cr05=Cr05+1 \n",
    "    if (fx[i]<f05) and (ax[i]<a05):\n",
    "        CrP05=CrP05+1\n",
    "    if (fx[i]<f1) or (ax[i]<a1):\n",
    "        Cr1=Cr1+1 \n",
    "    if (fx[i]<f1) and (ax[i]<a1):\n",
    "        CrP1=CrP1+1\n",
    "    if (fx[i]<f15) or (ax[i]<a15):\n",
    "        Cr15=Cr15+1 \n",
    "    if (fx[i]<f15) and (ax[i]<a15):\n",
    "        CrP15=CrP15+1\n",
    "    if (fx[i]<f2) or (ax[i]<a2):\n",
    "        Cr2=Cr2+1 \n",
    "    if (fx[i]<f2) and (ax[i]<a2):\n",
    "        CrP2=CrP2+1\n",
    "    if (fx[i]<f3) or (ax[i]<a3):\n",
    "        Cr3=Cr3+1 \n",
    "    if (fx[i]<f3) and (ax[i]<a3):\n",
    "        CrP3=CrP3+1\n",
    "    if (fx[i]<f4) or (ax[i]<a4):\n",
    "        Cr4=Cr4+1 \n",
    "    if (fx[i]<f4) and (ax[i]<a4):\n",
    "        CrP4=CrP4+1\n",
    "Cr005=1-Cr005/N1\n",
    "Cr01=1-Cr01/N1\n",
    "Cr025=1-Cr025/N1\n",
    "Cr05=1-Cr05/N1\n",
    "Cr1=1-Cr1/N1\n",
    "Cr15=1-Cr15/N1\n",
    "Cr2=1-Cr2/N1\n",
    "Cr3=1-Cr3/N1\n",
    "Cr4=1-Cr4/N1\n",
    "CrP005=1-CrP005/N1\n",
    "CrP01=1-CrP01/N1\n",
    "CrP025=1-CrP025/N1\n",
    "CrP05=1-CrP05/N1\n",
    "CrP1=1-CrP1/N1\n",
    "CrP15=1-CrP15/N1\n",
    "CrP2=1-CrP2/N1\n",
    "CrP3=1-CrP3/N1\n",
    "CrP4=1-CrP4/N1\n",
    "print('\\n                   Table of significance levels')\n",
    "print('\\n\\nalpha   0.005  0.01   0.025  0.05    0.1   0.15    0.2   0.3    0.4\\n')\n",
    "print('alpha O  %1.3f  %1.3f  %1.3f  %1.3f  %1.3f  %1.3f  %1.3f  %1.3f  %1.3f'%(Cr005, Cr01, Cr025, Cr05, Cr1, Cr15, Cr2, Cr3, Cr4))\n",
    "print('alpha P  %1.3f  %1.3f  %1.3f  %1.3f  %1.3f  %1.3f  %1.3f  %1.3f  %1.3f'%(CrP005, CrP01, CrP025, CrP05, CrP1, CrP15, CrP2, CrP3, CrP4))"
   ]
  },
  {
   "cell_type": "markdown",
   "metadata": {},
   "source": [
    "Интерполируем полученные значения и построим $\\alpha = f(\\alpha_{O})$"
   ]
  },
  {
   "cell_type": "code",
   "execution_count": 35,
   "metadata": {},
   "outputs": [
    {
     "data": {
      "image/png": "[encoded data removed]",
      "text/plain": [
       "<matplotlib.figure.Figure at 0xcc6ddf0>"
      ]
     },
     "metadata": {},
     "output_type": "display_data"
    }
   ],
   "source": [
    "Alpha=[0.005,  0.01,   0.025,  0.05,    0.1,   0.15,    0.2,   0.3,   0.4]\n",
    "CrArr=[Cr005, Cr01, Cr025, Cr05, Cr1, Cr15, Cr2, Cr3, Cr4]\n",
    "cs = CubicSpline(CrArr, Alpha)\n",
    "xs = np.arange(Cr005, Cr4, 0.05)\n",
    "fig, ax = plt.subplots(figsize=(6.5, 4))\n",
    "ax.plot(CrArr, Alpha, 'o', label='data')\n",
    "ax.plot(xs, cs(xs), label=\"S\")\n",
    "ax.set_xlim(0, 0.5)\n",
    "ax.legend(loc='upper left', ncol=2)\n",
    "plt.show()"
   ]
  },
  {
   "cell_type": "markdown",
   "metadata": {},
   "source": [
    "и $\\alpha=f(\\alpha_{П})$"
   ]
  },
  {
   "cell_type": "code",
   "execution_count": 36,
   "metadata": {},
   "outputs": [
    {
     "data": {
      "image/png": "[encoded data removed]",
      "text/plain": [
       "<matplotlib.figure.Figure at 0xcc6dd10>"
      ]
     },
     "metadata": {},
     "output_type": "display_data"
    }
   ],
   "source": [
    "CrPArr=[CrP005, CrP01, CrP025, CrP05, CrP1, CrP15, CrP2, CrP3, CrP4]\n",
    "csP = CubicSpline(CrPArr, Alpha)\n",
    "xsP = np.arange(CrP005, CrP4, 0.05)\n",
    "fig, ax = plt.subplots(figsize=(6.5, 4))\n",
    "ax.plot(CrPArr, Alpha, 'o', label='data')\n",
    "ax.plot(xsP, csP(xsP), label=\"S\")\n",
    "ax.set_xlim(0, 0.5)\n",
    "ax.legend(loc='upper left', ncol=2)\n",
    "plt.show()"
   ]
  },
  {
   "cell_type": "markdown",
   "metadata": {},
   "source": [
    "Вычислим значения критериев $О$ и $П$ в точках $\\alpha = 0.01,\\ 0.05,\\ 0.1,\\ 0.15$ по полученным функциям:"
   ]
  },
  {
   "cell_type": "code",
   "execution_count": 39,
   "metadata": {},
   "outputs": [
    {
     "name": "stdout",
     "output_type": "stream",
     "text": [
      "alpha_O/P  [0.01,      0.05,      0.1,       0.15]\n",
      "f(alpha_O) [ 0.01406444  0.06010559  0.11502299  0.16745506]\n",
      "f(alpha_P) [ 0.00869123  0.04212751  0.08725126  0.11989893]\n"
     ]
    }
   ],
   "source": [
    "AlphaO=cs([0.01, 0.05, 0.1, 0.15])\n",
    "AlphaP=csP([0.01, 0.05, 0.1, 0.15])\n",
    "print('alpha_O/P  [0.01,      0.05,      0.1,       0.15]')\n",
    "print('f(alpha_O)', AlphaO)\n",
    "print('f(alpha_P)', AlphaP)"
   ]
  },
  {
   "cell_type": "markdown",
   "metadata": {},
   "source": [
    "Проверим полученные значения моделированием. Сначала найдем значения критериев Фросини и Андерсона - Дарлинга в полученных $\\alpha$"
   ]
  },
  {
   "cell_type": "code",
   "execution_count": 41,
   "metadata": {
    "scrolled": true
   },
   "outputs": [
    {
     "name": "stdout",
     "output_type": "stream",
     "text": [
      "                 Table of the values of criterias \n",
      "\n",
      "alpha   0.014    0.060    0.115    0.167     0.009   0.042    0.087    0.120\n",
      "\n",
      "Frosini   0.707    0.564    0.477    0.436     0.789   0.609    0.515    0.474\n",
      "And-Dar   3.598    2.278    1.816    1.538     4.042   2.643    2.072    1.763\n"
     ]
    }
   ],
   "source": [
    "N2=4000\n",
    "fAO1=fros(100*(1-AlphaO[0]),20,N2)\n",
    "fAO2=fros(100*(1-AlphaO[1]),20,N2)\n",
    "fAO3=fros(100*(1-AlphaO[2]),20,N2)\n",
    "fAO4=fros(100*(1-AlphaO[3]),20,N2)\n",
    "fAP1=fros(100*(1-AlphaP[0]),20,N2)\n",
    "fAP2=fros(100*(1-AlphaP[1]),20,N2)\n",
    "fAP3=fros(100*(1-AlphaP[2]),20,N2)\n",
    "fAP4=fros(100*(1-AlphaP[3]),20,N2)\n",
    "aAP1=andersond(100*(1-AlphaP[0]),20,N2)\n",
    "aAP2=andersond(100*(1-AlphaP[1]),20,N2)\n",
    "aAP3=andersond(100*(1-AlphaP[2]),20,N2)\n",
    "aAP4=andersond(100*(1-AlphaP[3]),20,N2)\n",
    "aAO1=andersond(100*(1-AlphaO[0]),20,N2)\n",
    "aAO2=andersond(100*(1-AlphaO[1]),20,N2)\n",
    "aAO3=andersond(100*(1-AlphaO[2]),20,N2)\n",
    "aAO4=andersond(100*(1-AlphaO[3]),20,N2)\n",
    "print('                 Table of the values of criterias ')\n",
    "print('\\nalpha   %1.3f    %1.3f    %1.3f    %1.3f     %1.3f   %1.3f    %1.3f    %1.3f\\n'%(AlphaO[0], AlphaO[1], AlphaO[2], AlphaO[3], AlphaP[0], AlphaP[1], AlphaP[2], AlphaP[3]))\n",
    "print('Frosini   %1.3f    %1.3f    %1.3f    %1.3f     %1.3f   %1.3f    %1.3f    %1.3f'%(fAO1,fAO2,fAO3,fAO4,fAP1,fAP2,fAP3,fAP4))\n",
    "print('And-Dar   %1.3f    %1.3f    %1.3f    %1.3f     %1.3f   %1.3f    %1.3f    %1.3f'%(aAO1,aAO2,aAO3,aAO4,aAP1,aAP2,aAP3,aAP4))"
   ]
  },
  {
   "cell_type": "markdown",
   "metadata": {},
   "source": [
    "Теперь рассчитаем значения критериев $О$ и $П$ с этими $\\alpha$"
   ]
  },
  {
   "cell_type": "code",
   "execution_count": 42,
   "metadata": {},
   "outputs": [
    {
     "name": "stdout",
     "output_type": "stream",
     "text": [
      "\n",
      "                   Table of significance levels\n",
      "Crit O    0.011  0.050  0.101  0.144 \n",
      "Crit P    0.006  0.043  0.097  0.139 \n"
     ]
    }
   ],
   "source": [
    "N1=4000\n",
    "x=np.random.rand(N1,20)\n",
    "fx=frosEst(x)\n",
    "ax=andersondEst(x)\n",
    "CrAO1=0\n",
    "CrPO1=0\n",
    "CrAO2=0\n",
    "CrPO2=0\n",
    "CrAO3=0\n",
    "CrPO3=0\n",
    "CrAO4=0\n",
    "CrPO4=0\n",
    "for i in range(0,len(fx)):\n",
    "    if (fx[i]<fAO1) or (ax[i]<aAO1):\n",
    "        CrAO1=CrAO1+1 \n",
    "    if (fx[i]<fAP1) and (ax[i]<aAP1):\n",
    "        CrPO1=CrPO1+1\n",
    "    if (fx[i]<fAO2) or (ax[i]<aAO2):\n",
    "        CrAO2=CrAO2+1 \n",
    "    if (fx[i]<fAP2) and (ax[i]<aAP2):\n",
    "        CrPO2=CrPO2+1\n",
    "    if (fx[i]<fAO3) or (ax[i]<aAO3):\n",
    "        CrAO3=CrAO3+1 \n",
    "    if (fx[i]<fAP3) and (ax[i]<aAP3):\n",
    "        CrPO3=CrPO3+1\n",
    "    if (fx[i]<fAO4) or (ax[i]<aAO4):\n",
    "        CrAO4=CrAO4+1 \n",
    "    if (fx[i]<fAP4) and (ax[i]<aAP4):\n",
    "        CrPO4=CrPO4+1\n",
    "CrAO1=1-CrAO1/N1\n",
    "CrAO2=1-CrAO2/N1\n",
    "CrAO3=1-CrAO3/N1\n",
    "CrAO4=1-CrAO4/N1\n",
    "CrPO1=1-CrPO1/N1\n",
    "CrPO2=1-CrPO2/N1\n",
    "CrPO3=1-CrPO3/N1\n",
    "CrPO4=1-CrPO4/N1\n",
    "print('\\n                   Table of significance levels')\n",
    "#print('\\n\\nalpha     0.01    0.05    0.1   0.15 \\n')\n",
    "print('Crit O    %1.3f  %1.3f  %1.3f  %1.3f '%(CrAO1, CrAO2, CrAO3, CrAO4))\n",
    "print('Crit P    %1.3f  %1.3f  %1.3f  %1.3f '%(CrPO1, CrPO2, CrPO3, CrPO4))"
   ]
  },
  {
   "cell_type": "markdown",
   "metadata": {},
   "source": [
    "Сгенерируем $N3$ выборки объема 20 из бета-распределения 1-го рода."
   ]
  },
  {
   "cell_type": "code",
   "execution_count": 43,
   "metadata": {
    "collapsed": true
   },
   "outputs": [],
   "source": [
    "ah1=1.5\n",
    "bh1=1.5\n",
    "ch1=1.0\n",
    "dh1=0.0\n",
    "N3=200\n",
    "k=0\n",
    "sampleh1=[]\n",
    "for i in range(0,N3):\n",
    "    sample1 = betaprime.rvs(ah1, bh1, loc=dh1, scale=ch1, size=500) \n",
    "    sample2=[]\n",
    "    k=0\n",
    "    j=0\n",
    "    while (k<20):\n",
    "        if sample1[j]<=1:\n",
    "            sample2.append(sample1[j])\n",
    "            k=k+1\n",
    "        j=j+1\n",
    "    sampleh1.append(sample2)\n",
    "\n",
    "\n",
    "#ecdf = ECDF(sample2)\n",
    "#plt.step(ecdf.x, ecdf.y)\n",
    "#sampleh1=[sample2[0:20],sample2[20:40],sample2[40:60],sample2[60:80]]\n"
   ]
  },
  {
   "cell_type": "code",
   "execution_count": 44,
   "metadata": {},
   "outputs": [
    {
     "name": "stdout",
     "output_type": "stream",
     "text": [
      "\n",
      "                   Table of capacities for H1\n",
      "alpha_O/P  [0.01,   0.05,  0.1,    0.15]\n",
      "Crit O     0.020   0.090   0.165   0.240 \n",
      "Crit P     0.015   0.075   0.140   0.215 \n"
     ]
    }
   ],
   "source": [
    "fx=frosEst(sampleh1)\n",
    "ax=andersondEst(sampleh1)\n",
    "CrAO1=0\n",
    "CrPO1=0\n",
    "CrAO2=0\n",
    "CrPO2=0\n",
    "CrAO3=0\n",
    "CrPO3=0\n",
    "CrAO4=0\n",
    "CrPO4=0\n",
    "for i in range(0,len(fx)):\n",
    "    if (fx[i]<fAO1) or (ax[i]<aAO1):\n",
    "        CrAO1=CrAO1+1 \n",
    "    if (fx[i]<fAP1) and (ax[i]<aAP1):\n",
    "        CrPO1=CrPO1+1\n",
    "    if (fx[i]<fAO2) or (ax[i]<aAO2):\n",
    "        CrAO2=CrAO2+1 \n",
    "    if (fx[i]<fAP2) and (ax[i]<aAP2):\n",
    "        CrPO2=CrPO2+1\n",
    "    if (fx[i]<fAO3) or (ax[i]<aAO3):\n",
    "        CrAO3=CrAO3+1 \n",
    "    if (fx[i]<fAP3) and (ax[i]<aAP3):\n",
    "        CrPO3=CrPO3+1\n",
    "    if (fx[i]<fAO4) or (ax[i]<aAO4):\n",
    "        CrAO4=CrAO4+1 \n",
    "    if (fx[i]<fAP4) and (ax[i]<aAP4):\n",
    "        CrPO4=CrPO4+1\n",
    "CrAO1=1-CrAO1/N3\n",
    "CrAO2=1-CrAO2/N3\n",
    "CrAO3=1-CrAO3/N3\n",
    "CrAO4=1-CrAO4/N3\n",
    "CrPO1=1-CrPO1/N3\n",
    "CrPO2=1-CrPO2/N3\n",
    "CrPO3=1-CrPO3/N3\n",
    "CrPO4=1-CrPO4/N3\n",
    "print('\\n                   Table of capacities for H1')\n",
    "#print('\\n\\nalpha     0.01    0.05    0.1   0.15 \\n')\n",
    "print('alpha_O/P  [0.01,   0.05,  0.1,    0.15]')\n",
    "print('Crit O     %1.3f   %1.3f   %1.3f   %1.3f '%(CrAO1, CrAO2, CrAO3, CrAO4))\n",
    "print('Crit P     %1.3f   %1.3f   %1.3f   %1.3f '%(CrPO1, CrPO2, CrPO3, CrPO4))"
   ]
  },
  {
   "cell_type": "code",
   "execution_count": 45,
   "metadata": {
    "collapsed": true
   },
   "outputs": [],
   "source": [
    "ah1=0.8\n",
    "bh1=1.0\n",
    "ch1=1.0\n",
    "dh1=0.0\n",
    "N3=200\n",
    "k=0\n",
    "sampleh2=[]\n",
    "for i in range(0,N3):\n",
    "    sample1 = betaprime.rvs(ah1, bh1, loc=dh1, scale=ch1, size=500) \n",
    "    sample2=[]\n",
    "    k=0\n",
    "    j=0\n",
    "    while (k<20):\n",
    "        if sample1[j]<=1:\n",
    "            sample2.append(sample1[j])\n",
    "            k=k+1\n",
    "        j=j+1\n",
    "    sampleh2.append(sample2)"
   ]
  },
  {
   "cell_type": "code",
   "execution_count": 46,
   "metadata": {},
   "outputs": [
    {
     "name": "stdout",
     "output_type": "stream",
     "text": [
      "\n",
      "                   Table of capacities for H2\n",
      "alpha_O/P  [0.01,   0.05,  0.1,    0.15]\n",
      "Crit O     0.515   0.705   0.795   0.835 \n",
      "Crit P     0.480   0.710   0.800   0.875 \n"
     ]
    }
   ],
   "source": [
    "fx=frosEst(sampleh2)\n",
    "ax=andersondEst(sampleh2)\n",
    "CrAO1=0\n",
    "CrPO1=0\n",
    "CrAO2=0\n",
    "CrPO2=0\n",
    "CrAO3=0\n",
    "CrPO3=0\n",
    "CrAO4=0\n",
    "CrPO4=0\n",
    "for i in range(0,len(fx)):\n",
    "    if (fx[i]<fAO1) or (ax[i]<aAO1):\n",
    "        CrAO1=CrAO1+1 \n",
    "    if (fx[i]<fAP1) and (ax[i]<aAP1):\n",
    "        CrPO1=CrPO1+1\n",
    "    if (fx[i]<fAO2) or (ax[i]<aAO2):\n",
    "        CrAO2=CrAO2+1 \n",
    "    if (fx[i]<fAP2) and (ax[i]<aAP2):\n",
    "        CrPO2=CrPO2+1\n",
    "    if (fx[i]<fAO3) or (ax[i]<aAO3):\n",
    "        CrAO3=CrAO3+1 \n",
    "    if (fx[i]<fAP3) and (ax[i]<aAP3):\n",
    "        CrPO3=CrPO3+1\n",
    "    if (fx[i]<fAO4) or (ax[i]<aAO4):\n",
    "        CrAO4=CrAO4+1 \n",
    "    if (fx[i]<fAP4) and (ax[i]<aAP4):\n",
    "        CrPO4=CrPO4+1\n",
    "CrAO1=1-CrAO1/N3\n",
    "CrAO2=1-CrAO2/N3\n",
    "CrAO3=1-CrAO3/N3\n",
    "CrAO4=1-CrAO4/N3\n",
    "CrPO1=1-CrPO1/N3\n",
    "CrPO2=1-CrPO2/N3\n",
    "CrPO3=1-CrPO3/N3\n",
    "CrPO4=1-CrPO4/N3\n",
    "print('\\n                   Table of capacities for H2')\n",
    "#print('\\n\\nalpha     0.01    0.05    0.1   0.15 \\n')\n",
    "print('alpha_O/P  [0.01,   0.05,  0.1,    0.15]')\n",
    "print('Crit O     %1.3f   %1.3f   %1.3f   %1.3f '%(CrAO1, CrAO2, CrAO3, CrAO4))\n",
    "print('Crit P     %1.3f   %1.3f   %1.3f   %1.3f '%(CrPO1, CrPO2, CrPO3, CrPO4))"
   ]
  },
  {
   "cell_type": "code",
   "execution_count": 47,
   "metadata": {
    "collapsed": true
   },
   "outputs": [],
   "source": [
    "ah1=1.1\n",
    "bh1=0.9\n",
    "ch1=1.0\n",
    "dh1=0.0\n",
    "N3=200\n",
    "k=0\n",
    "sampleh3=[]\n",
    "for i in range(0,N3):\n",
    "    sample1 = betaprime.rvs(ah1, bh1, loc=dh1, scale=ch1, size=500) \n",
    "    sample2=[]\n",
    "    k=0\n",
    "    j=0\n",
    "    while (k<20):\n",
    "        if sample1[j]<=1:\n",
    "            sample2.append(sample1[j])\n",
    "            k=k+1\n",
    "        j=j+1\n",
    "    sampleh3.append(sample2)"
   ]
  },
  {
   "cell_type": "code",
   "execution_count": 48,
   "metadata": {},
   "outputs": [
    {
     "name": "stdout",
     "output_type": "stream",
     "text": [
      "\n",
      "                   Table of capacities for H3\n",
      "alpha_O/P  [0.01,   0.05,  0.1,    0.15]\n",
      "Crit O     0.140   0.310   0.375   0.430 \n",
      "Crit P     0.080   0.285   0.370   0.400 \n"
     ]
    }
   ],
   "source": [
    "fx=frosEst(sampleh3)\n",
    "ax=andersondEst(sampleh3)\n",
    "CrAO1=0\n",
    "CrPO1=0\n",
    "CrAO2=0\n",
    "CrPO2=0\n",
    "CrAO3=0\n",
    "CrPO3=0\n",
    "CrAO4=0\n",
    "CrPO4=0\n",
    "for i in range(0,len(fx)):\n",
    "    if (fx[i]<fAO1) or (ax[i]<aAO1):\n",
    "        CrAO1=CrAO1+1 \n",
    "    if (fx[i]<fAP1) and (ax[i]<aAP1):\n",
    "        CrPO1=CrPO1+1\n",
    "    if (fx[i]<fAO2) or (ax[i]<aAO2):\n",
    "        CrAO2=CrAO2+1 \n",
    "    if (fx[i]<fAP2) and (ax[i]<aAP2):\n",
    "        CrPO2=CrPO2+1\n",
    "    if (fx[i]<fAO3) or (ax[i]<aAO3):\n",
    "        CrAO3=CrAO3+1 \n",
    "    if (fx[i]<fAP3) and (ax[i]<aAP3):\n",
    "        CrPO3=CrPO3+1\n",
    "    if (fx[i]<fAO4) or (ax[i]<aAO4):\n",
    "        CrAO4=CrAO4+1 \n",
    "    if (fx[i]<fAP4) and (ax[i]<aAP4):\n",
    "        CrPO4=CrPO4+1\n",
    "CrAO1=1-CrAO1/N3\n",
    "CrAO2=1-CrAO2/N3\n",
    "CrAO3=1-CrAO3/N3\n",
    "CrAO4=1-CrAO4/N3\n",
    "CrPO1=1-CrPO1/N3\n",
    "CrPO2=1-CrPO2/N3\n",
    "CrPO3=1-CrPO3/N3\n",
    "CrPO4=1-CrPO4/N3\n",
    "print('\\n                   Table of capacities for H3')\n",
    "#print('\\n\\nalpha     0.01    0.05    0.1   0.15 \\n')\n",
    "print('alpha_O/P  [0.01,   0.05,  0.1,    0.15]')\n",
    "print('Crit O     %1.3f   %1.3f   %1.3f   %1.3f '%(CrAO1, CrAO2, CrAO3, CrAO4))\n",
    "print('Crit P     %1.3f   %1.3f   %1.3f   %1.3f '%(CrPO1, CrPO2, CrPO3, CrPO4))"
   ]
  },
  {
   "cell_type": "markdown",
   "metadata": {},
   "source": [
    "Несмотря на невысокую мощность критериев О и П относительно гипотезы $H_1$, они показывают довольно высокую мощность относительно гипотез $H_2$ и $H_3$. Также стоит отметить, что критерии Фросини и Андерсона - Дарлинга являются смещенными при объеме выборки 20, критерии О и П лишены этого недостатка."
   ]
  },
  {
   "cell_type": "code",
   "execution_count": null,
   "metadata": {
    "collapsed": true
   },
   "outputs": [],
   "source": []
  }
 ],
 "metadata": {
  "kernelspec": {
   "display_name": "Python 3",
   "language": "python",
   "name": "python3"
  },
  "language_info": {
   "codemirror_mode": {
    "name": "ipython",
    "version": 3
   },
   "file_extension": ".py",
   "mimetype": "text/x-python",
   "name": "python",
   "nbconvert_exporter": "python",
   "pygments_lexer": "ipython3",
   "version": "3.6.2"
  }
 },
 "nbformat": 4,
 "nbformat_minor": 2
}
